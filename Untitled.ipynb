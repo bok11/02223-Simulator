{
 "cells": [
  {
   "cell_type": "markdown",
   "metadata": {},
   "source": [
    "Simulator"
   ]
  },
  {
   "cell_type": "code",
   "execution_count": 176,
   "metadata": {
    "collapsed": true
   },
   "outputs": [],
   "source": [
    "import pandas as pd\n",
    "import numpy as np"
   ]
  },
  {
   "cell_type": "markdown",
   "metadata": {},
   "source": [
    "We assume that each node will have 8 sensors connected. Timesteps in minutes."
   ]
  },
  {
   "cell_type": "markdown",
   "metadata": {},
   "source": [
    "Set parameters for simulation"
   ]
  },
  {
   "cell_type": "code",
   "execution_count": 177,
   "metadata": {},
   "outputs": [],
   "source": [
    "n_nodes = 3\n",
    "n_sensors = 8\n",
    "timesteps = 100\n",
    "test_values = np.random.rand(timesteps, n_sensors).round(0)"
   ]
  },
  {
   "cell_type": "code",
   "execution_count": 1,
   "metadata": {},
   "outputs": [
    {
     "ename": "NameError",
     "evalue": "name 'test_values' is not defined",
     "output_type": "error",
     "traceback": [
      "\u001b[1;31m---------------------------------------------------------------------------\u001b[0m",
      "\u001b[1;31mNameError\u001b[0m                                 Traceback (most recent call last)",
      "\u001b[1;32m<ipython-input-1-2558c3fb6250>\u001b[0m in \u001b[0;36m<module>\u001b[1;34m()\u001b[0m\n\u001b[1;32m----> 1\u001b[1;33m \u001b[0mpower_use\u001b[0m \u001b[1;33m=\u001b[0m \u001b[1;33m[\u001b[0m\u001b[0mcalculate_power\u001b[0m\u001b[1;33m(\u001b[0m\u001b[0mtime_step\u001b[0m\u001b[1;33m)\u001b[0m \u001b[1;32mfor\u001b[0m \u001b[0mtime_step\u001b[0m \u001b[1;32min\u001b[0m \u001b[0mtest_values\u001b[0m\u001b[1;33m]\u001b[0m\u001b[1;33m\u001b[0m\u001b[0m\n\u001b[0m\u001b[0;32m      2\u001b[0m \u001b[0mprint\u001b[0m\u001b[1;33m(\u001b[0m\u001b[0msum\u001b[0m\u001b[1;33m(\u001b[0m\u001b[0mpower_use\u001b[0m\u001b[1;33m)\u001b[0m\u001b[1;33m)\u001b[0m\u001b[1;33m\u001b[0m\u001b[0m\n",
      "\u001b[1;31mNameError\u001b[0m: name 'test_values' is not defined"
     ]
    }
   ],
   "source": []
  },
  {
   "cell_type": "code",
   "execution_count": 188,
   "metadata": {},
   "outputs": [],
   "source": [
    "class node:\n",
    "    '''Assumes 1 minute timesteps'''\n",
    "    alive = True\n",
    "    n_sensors = 0\n",
    "    uptime = 0 # in minutes\n",
    "    sensor_voltage = 5\n",
    "    sensor_current = 0.002 # in amps\n",
    "    sensor_power_usage = sensor_voltage * sensor_current * 60 # 60 seconds in a timestep\n",
    "    energy_left = 0 # in Joule\n",
    "    panel_size = 0.25\n",
    "    panel_effeciency = 0.25\n",
    "    \n",
    "    \n",
    "    def __init__(self, n_sensors, handicap):\n",
    "        self.n_sensors = n_sensors\n",
    "          \n",
    "        battery_size = 2500 # in mAh\n",
    "        self.energy_left = battery_size * self.sensor_voltage * 3.6 * handicap\n",
    "        \n",
    "    def step(self, sensor_values, charge_factor):\n",
    "        '''Does a single time step'''\n",
    "        self.uptime += 1\n",
    "        used = 0\n",
    "        used += self.calculate_power_sensors(sensor_values)\n",
    "        used += self.calculate_power_send_data()\n",
    "        used += self.calculate_power_send_data()\n",
    "        charge = 0\n",
    "        charge += self.charge(charge_factor)      \n",
    "        \n",
    "        self.energy_left -= used\n",
    "        self.energy_left += charge\n",
    "        \n",
    "        # Energy check\n",
    "        if self.energy_left < 0:\n",
    "            print(\"No energy left!\")\n",
    "            self.alive = False\n",
    "        \n",
    "        #print(\"Charge: {}\\tLoss: {}\\tRemaining: {}\".format(charge, used, self.energy_left))\n",
    "        \n",
    "        return charge, used, self.energy_left\n",
    "    \n",
    "    def charge(self, charge_factor):\n",
    "        baseline = 1000 # 1000 W baseline max per square meter \n",
    "        #factor = 0.5 # 0.5 for northern hemosphere\n",
    "        \n",
    "        energy = charge_factor * self.panel_size * self.panel_effeciency * 60\n",
    "        \n",
    "        return energy\n",
    "        \n",
    "    def calculate_power_sensors(self, sensor_values):\n",
    "        '''Explicit for loop to catch wrong test value length'''\n",
    "        total = 0\n",
    "        \n",
    "        if len(sensor_values) == self.n_sensors:\n",
    "            return sum([value * self.sensor_power_usage for value in sensor_values])\n",
    "        else:\n",
    "            raise ValueError(\"n_sensors does not match sensor_values length\")\n",
    "\n",
    "    def calculate_power_send_data(self):\n",
    "        '''https://www.digikey.com/en/articles/techzone/2011/aug/comparing-low-power-wireless-technologies'''\n",
    "        protocol = {'BluetoothLE' : 0.000000153,     # In joyle/bit\n",
    "                    'ZigBee' : 0.0001855,\n",
    "                    'Wi-fi' : 0.00000000525\n",
    "                   }\n",
    "        data_size = self.n_sensors      # Theoretical minimum\n",
    "        \n",
    "        return data_size * protocol['ZigBee']\n",
    "\n"
   ]
  },
  {
   "cell_type": "code",
   "execution_count": 189,
   "metadata": {},
   "outputs": [],
   "source": [
    "sunlightnode = node(n_sensors=8, handicap=1)"
   ]
  },
  {
   "cell_type": "code",
   "execution_count": 172,
   "metadata": {},
   "outputs": [
    {
     "name": "stdout",
     "output_type": "stream",
     "text": [
      "Charge: 1.875\tLoss: 2.402968\tRemaining: 44997.88812799999\n"
     ]
    }
   ],
   "source": [
    "sunlightnode.step([1,1,0,0,0,1,0,1], 0.5)"
   ]
  },
  {
   "cell_type": "code",
   "execution_count": 173,
   "metadata": {},
   "outputs": [],
   "source": [
    "nightnode = node(n_sensors=6, handicap=0.0005)"
   ]
  },
  {
   "cell_type": "code",
   "execution_count": 174,
   "metadata": {},
   "outputs": [
    {
     "name": "stdout",
     "output_type": "stream",
     "text": [
      "Charge: 0.1875\tLoss: 3.0022260000000003\tRemaining: 19.685274\n"
     ]
    }
   ],
   "source": [
    "nightnode.step([1,1,1,0,1,1], 0.05)"
   ]
  },
  {
   "cell_type": "markdown",
   "metadata": {},
   "source": [
    "TASKS:\n",
    "\n",
    "How much power does a single node consume based on it's sensor activations\n",
    "\n",
    "How much power does the network use?\n",
    "\n",
    "How long can the network run before running out of power?"
   ]
  },
  {
   "cell_type": "code",
   "execution_count": 180,
   "metadata": {},
   "outputs": [
    {
     "name": "stdout",
     "output_type": "stream",
     "text": [
      "Charge: 0.0375\tLoss: 1.802968\tRemaining: 44767.975859999715\n",
      "Charge: 0.0375\tLoss: 3.002968\tRemaining: 44765.01039199971\n",
      "Charge: 0.0375\tLoss: 3.002968\tRemaining: 44762.04492399971\n",
      "Charge: 0.0375\tLoss: 1.802968\tRemaining: 44760.279455999706\n",
      "Charge: 0.0375\tLoss: 1.802968\tRemaining: 44758.5139879997\n",
      "Charge: 0.0375\tLoss: 3.002968\tRemaining: 44755.5485199997\n",
      "Charge: 0.0375\tLoss: 3.002968\tRemaining: 44752.583051999696\n",
      "Charge: 0.0375\tLoss: 2.402968\tRemaining: 44750.21758399969\n",
      "Charge: 0.0375\tLoss: 1.802968\tRemaining: 44748.45211599969\n",
      "Charge: 0.0375\tLoss: 1.802968\tRemaining: 44746.68664799968\n",
      "Charge: 0.0375\tLoss: 2.402968\tRemaining: 44744.32117999968\n",
      "Charge: 0.0375\tLoss: 3.002968\tRemaining: 44741.35571199968\n",
      "Charge: 0.0375\tLoss: 3.002968\tRemaining: 44738.390243999675\n",
      "Charge: 0.0375\tLoss: 3.002968\tRemaining: 44735.42477599967\n",
      "Charge: 0.0375\tLoss: 1.202968\tRemaining: 44734.25930799967\n",
      "Charge: 0.0375\tLoss: 3.602968\tRemaining: 44730.69383999967\n",
      "Charge: 0.0375\tLoss: 1.802968\tRemaining: 44728.92837199967\n",
      "Charge: 0.0375\tLoss: 3.002968\tRemaining: 44725.962903999665\n",
      "Charge: 0.0375\tLoss: 1.202968\tRemaining: 44724.797435999666\n",
      "Charge: 0.0375\tLoss: 1.802968\tRemaining: 44723.03196799966\n",
      "Charge: 0.0375\tLoss: 3.002968\tRemaining: 44720.06649999966\n",
      "Charge: 0.0375\tLoss: 2.402968\tRemaining: 44717.701031999655\n",
      "Charge: 0.0375\tLoss: 1.802968\tRemaining: 44715.93556399965\n",
      "Charge: 0.0375\tLoss: 3.002968\tRemaining: 44712.97009599965\n",
      "Charge: 0.0375\tLoss: 1.202968\tRemaining: 44711.80462799965\n",
      "Charge: 0.0375\tLoss: 2.402968\tRemaining: 44709.439159999645\n",
      "Charge: 0.0375\tLoss: 1.802968\tRemaining: 44707.67369199964\n",
      "Charge: 0.0375\tLoss: 2.402968\tRemaining: 44705.30822399964\n",
      "Charge: 0.0375\tLoss: 3.002968\tRemaining: 44702.342755999634\n",
      "Charge: 0.0375\tLoss: 2.402968\tRemaining: 44699.97728799963\n",
      "Charge: 0.0375\tLoss: 1.202968\tRemaining: 44698.81181999963\n",
      "Charge: 0.0375\tLoss: 3.002968\tRemaining: 44695.84635199963\n",
      "Charge: 0.0375\tLoss: 3.002968\tRemaining: 44692.88088399963\n",
      "Charge: 0.0375\tLoss: 2.402968\tRemaining: 44690.515415999624\n",
      "Charge: 0.0375\tLoss: 1.802968\tRemaining: 44688.74994799962\n",
      "Charge: 0.0375\tLoss: 3.602968\tRemaining: 44685.18447999962\n",
      "Charge: 0.0375\tLoss: 2.402968\tRemaining: 44682.819011999614\n",
      "Charge: 0.0375\tLoss: 3.602968\tRemaining: 44679.25354399961\n",
      "Charge: 0.0375\tLoss: 1.802968\tRemaining: 44677.48807599961\n",
      "Charge: 0.0375\tLoss: 2.402968\tRemaining: 44675.122607999605\n",
      "Charge: 0.0375\tLoss: 2.402968\tRemaining: 44672.7571399996\n",
      "Charge: 0.0375\tLoss: 2.402968\tRemaining: 44670.3916719996\n",
      "Charge: 0.0375\tLoss: 3.002968\tRemaining: 44667.426203999596\n",
      "Charge: 0.0375\tLoss: 1.202968\tRemaining: 44666.2607359996\n",
      "Charge: 0.0375\tLoss: 2.402968\tRemaining: 44663.89526799959\n",
      "Charge: 0.0375\tLoss: 2.402968\tRemaining: 44661.52979999959\n",
      "Charge: 0.0375\tLoss: 2.402968\tRemaining: 44659.164331999586\n",
      "Charge: 0.0375\tLoss: 1.802968\tRemaining: 44657.39886399958\n",
      "Charge: 0.0375\tLoss: 1.802968\tRemaining: 44655.633395999575\n",
      "Charge: 0.0375\tLoss: 1.802968\tRemaining: 44653.86792799957\n",
      "Charge: 0.0375\tLoss: 3.002968\tRemaining: 44650.90245999957\n",
      "Charge: 0.0375\tLoss: 4.202967999999999\tRemaining: 44646.73699199957\n",
      "Charge: 0.0375\tLoss: 3.002968\tRemaining: 44643.77152399957\n",
      "Charge: 0.0375\tLoss: 3.602968\tRemaining: 44640.206055999566\n",
      "Charge: 0.0375\tLoss: 3.602968\tRemaining: 44636.640587999565\n",
      "Charge: 0.0375\tLoss: 2.402968\tRemaining: 44634.27511999956\n",
      "Charge: 0.0375\tLoss: 2.402968\tRemaining: 44631.90965199956\n",
      "Charge: 0.0375\tLoss: 1.202968\tRemaining: 44630.74418399956\n",
      "Charge: 0.0375\tLoss: 3.002968\tRemaining: 44627.77871599956\n",
      "Charge: 0.0375\tLoss: 4.202967999999999\tRemaining: 44623.61324799956\n",
      "Charge: 0.0375\tLoss: 3.002968\tRemaining: 44620.647779999555\n",
      "Charge: 0.0375\tLoss: 2.402968\tRemaining: 44618.28231199955\n",
      "Charge: 0.0375\tLoss: 2.402968\tRemaining: 44615.91684399955\n",
      "Charge: 0.0375\tLoss: 2.402968\tRemaining: 44613.551375999545\n",
      "Charge: 0.0375\tLoss: 1.202968\tRemaining: 44612.385907999545\n",
      "Charge: 0.0375\tLoss: 4.202967999999999\tRemaining: 44608.220439999546\n",
      "Charge: 0.0375\tLoss: 1.802968\tRemaining: 44606.45497199954\n",
      "Charge: 0.0375\tLoss: 3.002968\tRemaining: 44603.48950399954\n",
      "Charge: 0.0375\tLoss: 1.802968\tRemaining: 44601.724035999534\n",
      "Charge: 0.0375\tLoss: 3.002968\tRemaining: 44598.75856799953\n",
      "Charge: 0.0375\tLoss: 2.402968\tRemaining: 44596.39309999953\n",
      "Charge: 0.0375\tLoss: 1.802968\tRemaining: 44594.62763199952\n",
      "Charge: 0.0375\tLoss: 1.202968\tRemaining: 44593.462163999524\n",
      "Charge: 0.0375\tLoss: 1.802968\tRemaining: 44591.69669599952\n",
      "Charge: 0.0375\tLoss: 2.402968\tRemaining: 44589.331227999515\n",
      "Charge: 0.0375\tLoss: 2.402968\tRemaining: 44586.96575999951\n",
      "Charge: 0.0375\tLoss: 2.402968\tRemaining: 44584.60029199951\n",
      "Charge: 0.0375\tLoss: 3.002968\tRemaining: 44581.634823999506\n",
      "Charge: 0.0375\tLoss: 3.602968\tRemaining: 44578.069355999505\n",
      "Charge: 0.0375\tLoss: 1.202968\tRemaining: 44576.903887999506\n",
      "Charge: 0.0375\tLoss: 0.6029680000000001\tRemaining: 44576.338419999505\n",
      "Charge: 0.0375\tLoss: 0.6029680000000001\tRemaining: 44575.772951999505\n",
      "Charge: 0.0375\tLoss: 1.802968\tRemaining: 44574.0074839995\n",
      "Charge: 0.0375\tLoss: 1.202968\tRemaining: 44572.8420159995\n",
      "Charge: 0.0375\tLoss: 1.802968\tRemaining: 44571.076547999495\n",
      "Charge: 0.0375\tLoss: 0.6029680000000001\tRemaining: 44570.511079999495\n",
      "Charge: 0.0375\tLoss: 1.802968\tRemaining: 44568.74561199949\n",
      "Charge: 0.0375\tLoss: 2.402968\tRemaining: 44566.380143999486\n",
      "Charge: 0.0375\tLoss: 0.6029680000000001\tRemaining: 44565.814675999485\n",
      "Charge: 0.0375\tLoss: 3.002968\tRemaining: 44562.84920799948\n",
      "Charge: 0.0375\tLoss: 3.002968\tRemaining: 44559.88373999948\n",
      "Charge: 0.0375\tLoss: 1.802968\tRemaining: 44558.118271999476\n",
      "Charge: 0.0375\tLoss: 1.802968\tRemaining: 44556.35280399947\n",
      "Charge: 0.0375\tLoss: 2.402968\tRemaining: 44553.98733599947\n",
      "Charge: 0.0375\tLoss: 1.802968\tRemaining: 44552.22186799946\n",
      "Charge: 0.0375\tLoss: 3.002968\tRemaining: 44549.25639999946\n",
      "Charge: 0.0375\tLoss: 2.402968\tRemaining: 44546.89093199946\n",
      "Charge: 0.0375\tLoss: 2.402968\tRemaining: 44544.52546399945\n",
      "Charge: 0.0375\tLoss: 1.202968\tRemaining: 44543.35999599945\n",
      "Charge: 0.0375\tLoss: 1.802968\tRemaining: 44541.59452799945\n"
     ]
    },
    {
     "ename": "ValueError",
     "evalue": "too many values to unpack (expected 3)",
     "output_type": "error",
     "traceback": [
      "\u001b[1;31m---------------------------------------------------------------------------\u001b[0m",
      "\u001b[1;31mValueError\u001b[0m                                Traceback (most recent call last)",
      "\u001b[1;32m<ipython-input-180-28f97c5cb442>\u001b[0m in \u001b[0;36m<module>\u001b[1;34m()\u001b[0m\n\u001b[1;32m----> 1\u001b[1;33m \u001b[0ma\u001b[0m\u001b[1;33m,\u001b[0m \u001b[0mb\u001b[0m\u001b[1;33m,\u001b[0m \u001b[0mc\u001b[0m \u001b[1;33m=\u001b[0m \u001b[1;33m[\u001b[0m\u001b[0msunlightnode\u001b[0m\u001b[1;33m.\u001b[0m\u001b[0mstep\u001b[0m\u001b[1;33m(\u001b[0m\u001b[0msensor_values\u001b[0m\u001b[1;33m,\u001b[0m \u001b[1;36m0.01\u001b[0m\u001b[1;33m)\u001b[0m \u001b[1;32mfor\u001b[0m \u001b[0msensor_values\u001b[0m \u001b[1;32min\u001b[0m \u001b[0mtest_values\u001b[0m\u001b[1;33m]\u001b[0m\u001b[1;33m\u001b[0m\u001b[0m\n\u001b[0m\u001b[0;32m      2\u001b[0m \u001b[1;31m#print(sum(power_use))\u001b[0m\u001b[1;33m\u001b[0m\u001b[1;33m\u001b[0m\u001b[0m\n",
      "\u001b[1;31mValueError\u001b[0m: too many values to unpack (expected 3)"
     ]
    }
   ],
   "source": [
    "a, b, c = [sunlightnode.step(sensor_values, 0.01) for sensor_values in test_values]\n",
    "#print(sum(power_use))"
   ]
  },
  {
   "cell_type": "code",
   "execution_count": 182,
   "metadata": {
    "scrolled": true
   },
   "outputs": [
    {
     "name": "stdout",
     "output_type": "stream",
     "text": [
      "Charge: 0.0375\tLoss: 3.002968\tRemaining: 44538.629059999446\n"
     ]
    }
   ],
   "source": [
    "sunlightnode.step(test_values[2], 0.01)"
   ]
  },
  {
   "cell_type": "code",
   "execution_count": 192,
   "metadata": {
    "scrolled": true
   },
   "outputs": [
    {
     "name": "stdout",
     "output_type": "stream",
     "text": [
      "Charge: 0.0375\tLoss: 3.002968\tRemaining: 44991.10359599999\n"
     ]
    }
   ],
   "source": [
    "a, b, c = sunlightnode.step(test_values[2], 0.01)\n",
    "\n",
    "print(\"Charge: {}\\tLoss: {}\\tRemaining: {}\".format(a, b, c))"
   ]
  },
  {
   "cell_type": "code",
   "execution_count": 193,
   "metadata": {
    "collapsed": true
   },
   "outputs": [],
   "source": [
    "data = pd.DataFrame(test_values)"
   ]
  },
  {
   "cell_type": "code",
   "execution_count": 226,
   "metadata": {},
   "outputs": [
    {
     "data": {
      "text/plain": [
       "(0.0375, 3.0029680000000001, 44979.241723999985)"
      ]
     },
     "execution_count": 226,
     "metadata": {},
     "output_type": "execute_result"
    }
   ],
   "source": [
    "def func(i):\n",
    "    return 1+1+i\n",
    "\n",
    "#data['test'].apply(func)\n",
    "sunlightnode.step(test_values[2], 0.01)\n",
    "#data['test'].apply(sunlightnode.step(data.iloc[:,0:8], 0.01))"
   ]
  },
  {
   "cell_type": "code",
   "execution_count": null,
   "metadata": {
    "collapsed": true
   },
   "outputs": [],
   "source": []
  },
  {
   "cell_type": "code",
   "execution_count": null,
   "metadata": {
    "collapsed": true
   },
   "outputs": [],
   "source": []
  },
  {
   "cell_type": "code",
   "execution_count": null,
   "metadata": {
    "collapsed": true
   },
   "outputs": [],
   "source": []
  },
  {
   "cell_type": "code",
   "execution_count": null,
   "metadata": {
    "collapsed": true
   },
   "outputs": [],
   "source": []
  },
  {
   "cell_type": "code",
   "execution_count": null,
   "metadata": {
    "collapsed": true
   },
   "outputs": [],
   "source": []
  },
  {
   "cell_type": "code",
   "execution_count": null,
   "metadata": {
    "collapsed": true
   },
   "outputs": [],
   "source": []
  },
  {
   "cell_type": "code",
   "execution_count": null,
   "metadata": {
    "collapsed": true
   },
   "outputs": [],
   "source": []
  },
  {
   "cell_type": "code",
   "execution_count": null,
   "metadata": {
    "collapsed": true
   },
   "outputs": [],
   "source": []
  }
 ],
 "metadata": {
  "kernelspec": {
   "display_name": "Python 3",
   "language": "python",
   "name": "python3"
  },
  "language_info": {
   "codemirror_mode": {
    "name": "ipython",
    "version": 3
   },
   "file_extension": ".py",
   "mimetype": "text/x-python",
   "name": "python",
   "nbconvert_exporter": "python",
   "pygments_lexer": "ipython3",
   "version": "3.5.4"
  }
 },
 "nbformat": 4,
 "nbformat_minor": 2
}
