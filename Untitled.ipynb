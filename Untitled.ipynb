{
 "cells": [
  {
   "cell_type": "markdown",
   "metadata": {},
   "source": [
    "Simulator"
   ]
  },
  {
   "cell_type": "code",
   "execution_count": 6,
   "metadata": {
    "collapsed": true
   },
   "outputs": [],
   "source": [
    "import pandas as pd\n",
    "import numpy as np\n",
    "import unittest"
   ]
  },
  {
   "cell_type": "markdown",
   "metadata": {},
   "source": [
    "We assume that each node will have 8 sensors connected. Timesteps in minutes."
   ]
  },
  {
   "cell_type": "markdown",
   "metadata": {},
   "source": [
    "Set parameters for simulation"
   ]
  },
  {
   "cell_type": "code",
   "execution_count": 2,
   "metadata": {
    "collapsed": true
   },
   "outputs": [],
   "source": [
    "n_nodes = 3\n",
    "n_sensors = 8\n",
    "timesteps = 100\n",
    "test_values = np.random.rand(timesteps, n_sensors).round(0)"
   ]
  },
  {
   "cell_type": "code",
   "execution_count": 1,
   "metadata": {
    "collapsed": true
   },
   "outputs": [],
   "source": [
    "class node:\n",
    "    '''Assumes 1 minute timesteps'''\n",
    "    alive = True\n",
    "    n_sensors = 0\n",
    "    uptime = 0 # in minutes\n",
    "    sensor_voltage = 5\n",
    "    sensor_current = 0.002 # in amps\n",
    "    sensor_power_usage = sensor_voltage * sensor_current * 60 # 60 seconds in a timestep\n",
    "    energy_left = 0 # in Joule\n",
    "    panel_size = 0.25\n",
    "    panel_effeciency = 0.25\n",
    "    \n",
    "    \n",
    "    def __init__(self, n_sensors, handicap):\n",
    "        self.n_sensors = n_sensors\n",
    "          \n",
    "        battery_size = 2500 # in mAh\n",
    "        self.energy_left = battery_size * self.sensor_voltage * 3.6 * handicap\n",
    "        \n",
    "    def step(self, sensor_values, charge_factor):\n",
    "        '''Does a single time step'''\n",
    "        self.uptime += 1\n",
    "        used = 0\n",
    "        used += self.calculate_power_sensors(sensor_values)\n",
    "        used += self.calculate_power_send_data()\n",
    "        used += self.calculate_power_send_data()\n",
    "        charge = 0\n",
    "        charge += self.charge(charge_factor)      \n",
    "        \n",
    "        self.energy_left -= used\n",
    "        self.energy_left += charge\n",
    "        \n",
    "        # Energy check\n",
    "        if self.energy_left < 0:\n",
    "            print(\"No energy left!\")\n",
    "            self.alive = False\n",
    "        \n",
    "        #print(\"Charge: {}\\tLoss: {}\\tRemaining: {}\".format(charge, used, self.energy_left))\n",
    "        \n",
    "        return charge, used, self.energy_left\n",
    "    \n",
    "    def charge(self, charge_factor):\n",
    "        baseline = 1000 # 1000 W baseline max per square meter \n",
    "        #factor = 0.5 # 0.5 for northern hemosphere\n",
    "        \n",
    "        energy = charge_factor * self.panel_size * self.panel_effeciency * 60\n",
    "        \n",
    "        return energy\n",
    "        \n",
    "    def calculate_power_sensors(self, sensor_values):\n",
    "        '''Explicit for loop to catch wrong test value length'''\n",
    "        total = 0\n",
    "        \n",
    "        if len(sensor_values) == self.n_sensors:\n",
    "            return sum([value * self.sensor_power_usage for value in sensor_values])\n",
    "        else:\n",
    "            raise ValueError(\"n_sensors does not match sensor_values length\")\n",
    "\n",
    "    def calculate_power_send_data(self):\n",
    "        '''https://www.digikey.com/en/articles/techzone/2011/aug/comparing-low-power-wireless-technologies'''\n",
    "        protocol = {'BluetoothLE' : 0.000000153,     # In joyle/bit\n",
    "                    'ZigBee' : 0.0001855,\n",
    "                    'Wi-fi' : 0.00000000525\n",
    "                   }\n",
    "        data_size = self.n_sensors      # Theoretical minimum\n",
    "        \n",
    "        return data_size * protocol['ZigBee']\n",
    "\n"
   ]
  },
  {
   "cell_type": "code",
   "execution_count": 8,
   "metadata": {
    "collapsed": true
   },
   "outputs": [],
   "source": [
    "class MyTest(unittest.TestCase):\n",
    "    def test(self):\n",
    "        self.assertEqual(sunlightnode.step([1,1,0,0,0,1,0,1], 0.5), (1.875, 2.402968, 44999.472032))"
   ]
  },
  {
   "cell_type": "code",
   "execution_count": 12,
   "metadata": {
    "collapsed": false
   },
   "outputs": [],
   "source": [
    "import unittest\n",
    "import math\n",
    " \n",
    "class TestUM(unittest.TestCase):\n",
    " \n",
    "    def setUp(self):\n",
    "        pass\n",
    " \n",
    "    def test_numbers_3_4(self):\n",
    "        self.assertEqual( math.sqrt(16), 4)\n",
    " \n",
    "    #def test_strings_a_3(self):\n",
    "     #   self.assertEqual( multiply('a',3), 'aaa')\n",
    " "
   ]
  },
  {
   "cell_type": "code",
   "execution_count": 13,
   "metadata": {
    "collapsed": false
   },
   "outputs": [
    {
     "name": "stderr",
     "output_type": "stream",
     "text": [
      "E\n",
      "======================================================================\n",
      "ERROR: C:\\Users\\chris_000\\AppData\\Roaming\\jupyter\\runtime\\kernel-e780fdcc-8e13-41da-b798-9b527dcdc476 (unittest.loader._FailedTest)\n",
      "----------------------------------------------------------------------\n",
      "AttributeError: module '__main__' has no attribute 'C:\\Users\\chris_000\\AppData\\Roaming\\jupyter\\runtime\\kernel-e780fdcc-8e13-41da-b798-9b527dcdc476'\n",
      "\n",
      "----------------------------------------------------------------------\n",
      "Ran 1 test in 0.002s\n",
      "\n",
      "FAILED (errors=1)\n"
     ]
    },
    {
     "ename": "SystemExit",
     "evalue": "True",
     "output_type": "error",
     "traceback": [
      "An exception has occurred, use %tb to see the full traceback.\n",
      "\u001b[0;31mSystemExit\u001b[0m\u001b[0;31m:\u001b[0m True\n"
     ]
    },
    {
     "name": "stderr",
     "output_type": "stream",
     "text": [
      "C:\\Users\\chris_000\\Anaconda3\\lib\\site-packages\\IPython\\core\\interactiveshell.py:2889: UserWarning: To exit: use 'exit', 'quit', or Ctrl-D.\n",
      "  warn(\"To exit: use 'exit', 'quit', or Ctrl-D.\", stacklevel=1)\n"
     ]
    }
   ],
   "source": [
    "unittest.main()"
   ]
  },
  {
   "cell_type": "code",
   "execution_count": 2,
   "metadata": {
    "collapsed": true
   },
   "outputs": [],
   "source": [
    "sunlightnode = node(n_sensors=8, handicap=1)"
   ]
  },
  {
   "cell_type": "code",
   "execution_count": 3,
   "metadata": {
    "collapsed": false
   },
   "outputs": [
    {
     "data": {
      "text/plain": [
       "(1.875, 2.402968, 44999.472032)"
      ]
     },
     "execution_count": 3,
     "metadata": {},
     "output_type": "execute_result"
    }
   ],
   "source": [
    "sunlightnode.step([1,1,0,0,0,1,0,1], 0.5)"
   ]
  },
  {
   "cell_type": "code",
   "execution_count": 4,
   "metadata": {
    "collapsed": true
   },
   "outputs": [],
   "source": [
    "nightnode = node(n_sensors=6, handicap=0.0005)"
   ]
  },
  {
   "cell_type": "code",
   "execution_count": 5,
   "metadata": {
    "collapsed": false
   },
   "outputs": [
    {
     "data": {
      "text/plain": [
       "(0.1875, 3.0022260000000003, 19.685274)"
      ]
     },
     "execution_count": 5,
     "metadata": {},
     "output_type": "execute_result"
    }
   ],
   "source": [
    "nightnode.step([1,1,1,0,1,1], 0.05)"
   ]
  },
  {
   "cell_type": "markdown",
   "metadata": {},
   "source": [
    "TASKS:\n",
    "\n",
    "UNIT TESTS!\n",
    "\n",
    "How much power does a single node consume based on it's sensor activations\n",
    "\n",
    "How much power does the network use?\n",
    "\n",
    "How long can the network run before running out of power?"
   ]
  },
  {
   "cell_type": "code",
   "execution_count": 8,
   "metadata": {
    "collapsed": false
   },
   "outputs": [
    {
     "ename": "ValueError",
     "evalue": "too many values to unpack (expected 3)",
     "output_type": "error",
     "traceback": [
      "\u001b[1;31m---------------------------------------------------------------------------\u001b[0m",
      "\u001b[1;31mValueError\u001b[0m                                Traceback (most recent call last)",
      "\u001b[1;32m<ipython-input-8-28f97c5cb442>\u001b[0m in \u001b[0;36m<module>\u001b[1;34m()\u001b[0m\n\u001b[1;32m----> 1\u001b[1;33m \u001b[0ma\u001b[0m\u001b[1;33m,\u001b[0m \u001b[0mb\u001b[0m\u001b[1;33m,\u001b[0m \u001b[0mc\u001b[0m \u001b[1;33m=\u001b[0m \u001b[1;33m[\u001b[0m\u001b[0msunlightnode\u001b[0m\u001b[1;33m.\u001b[0m\u001b[0mstep\u001b[0m\u001b[1;33m(\u001b[0m\u001b[0msensor_values\u001b[0m\u001b[1;33m,\u001b[0m \u001b[1;36m0.01\u001b[0m\u001b[1;33m)\u001b[0m \u001b[1;32mfor\u001b[0m \u001b[0msensor_values\u001b[0m \u001b[1;32min\u001b[0m \u001b[0mtest_values\u001b[0m\u001b[1;33m]\u001b[0m\u001b[1;33m\u001b[0m\u001b[0m\n\u001b[0m\u001b[0;32m      2\u001b[0m \u001b[1;31m#print(sum(power_use))\u001b[0m\u001b[1;33m\u001b[0m\u001b[1;33m\u001b[0m\u001b[0m\n",
      "\u001b[1;31mValueError\u001b[0m: too many values to unpack (expected 3)"
     ]
    }
   ],
   "source": [
    "a, b, c = [sunlightnode.step(sensor_values, 0.01) for sensor_values in test_values]\n",
    "#print(sum(power_use))"
   ]
  },
  {
   "cell_type": "code",
   "execution_count": 9,
   "metadata": {
    "collapsed": false,
    "scrolled": true
   },
   "outputs": [
    {
     "data": {
      "text/plain": [
       "(0.0375, 1.8029679999999999, 44767.159763999771)"
      ]
     },
     "execution_count": 9,
     "metadata": {},
     "output_type": "execute_result"
    }
   ],
   "source": [
    "sunlightnode.step(test_values[2], 0.01)"
   ]
  },
  {
   "cell_type": "code",
   "execution_count": 10,
   "metadata": {
    "collapsed": false,
    "scrolled": true
   },
   "outputs": [
    {
     "name": "stdout",
     "output_type": "stream",
     "text": [
      "Charge: 0.0375\tLoss: 1.802968\tRemaining: 44765.394295999766\n"
     ]
    }
   ],
   "source": [
    "a, b, c = sunlightnode.step(test_values[2], 0.01)\n",
    "\n",
    "print(\"Charge: {}\\tLoss: {}\\tRemaining: {}\".format(a, b, c))"
   ]
  },
  {
   "cell_type": "code",
   "execution_count": 11,
   "metadata": {
    "collapsed": true
   },
   "outputs": [],
   "source": [
    "data = pd.DataFrame(test_values)"
   ]
  },
  {
   "cell_type": "code",
   "execution_count": 226,
   "metadata": {
    "collapsed": false
   },
   "outputs": [
    {
     "data": {
      "text/plain": [
       "(0.0375, 3.0029680000000001, 44979.241723999985)"
      ]
     },
     "execution_count": 226,
     "metadata": {},
     "output_type": "execute_result"
    }
   ],
   "source": [
    "def func(i):\n",
    "    return 1+1+i\n",
    "\n",
    "#data['test'].apply(func)\n",
    "sunlightnode.step(test_values[2], 0.01)\n",
    "#data['test'].apply(sunlightnode.step(data.iloc[:,0:8], 0.01))"
   ]
  },
  {
   "cell_type": "code",
   "execution_count": null,
   "metadata": {
    "collapsed": true
   },
   "outputs": [],
   "source": []
  },
  {
   "cell_type": "code",
   "execution_count": null,
   "metadata": {
    "collapsed": true
   },
   "outputs": [],
   "source": []
  },
  {
   "cell_type": "code",
   "execution_count": null,
   "metadata": {
    "collapsed": true
   },
   "outputs": [],
   "source": []
  },
  {
   "cell_type": "code",
   "execution_count": null,
   "metadata": {
    "collapsed": true
   },
   "outputs": [],
   "source": []
  },
  {
   "cell_type": "code",
   "execution_count": null,
   "metadata": {
    "collapsed": true
   },
   "outputs": [],
   "source": []
  },
  {
   "cell_type": "code",
   "execution_count": null,
   "metadata": {
    "collapsed": true
   },
   "outputs": [],
   "source": []
  },
  {
   "cell_type": "code",
   "execution_count": null,
   "metadata": {
    "collapsed": true
   },
   "outputs": [],
   "source": []
  },
  {
   "cell_type": "code",
   "execution_count": null,
   "metadata": {
    "collapsed": true
   },
   "outputs": [],
   "source": []
  }
 ],
 "metadata": {
  "kernelspec": {
   "display_name": "Python 3",
   "language": "python",
   "name": "python3"
  },
  "language_info": {
   "codemirror_mode": {
    "name": "ipython",
    "version": 3
   },
   "file_extension": ".py",
   "mimetype": "text/x-python",
   "name": "python",
   "nbconvert_exporter": "python",
   "pygments_lexer": "ipython3",
   "version": "3.6.0"
  }
 },
 "nbformat": 4,
 "nbformat_minor": 2
}
